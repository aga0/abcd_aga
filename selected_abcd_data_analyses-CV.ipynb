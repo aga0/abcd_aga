{
 "cells": [
  {
   "cell_type": "code",
   "execution_count": 1,
   "metadata": {},
   "outputs": [],
   "source": [
    "import pandas as pd\n",
    "import numpy as np\n",
    "from sklearn.decomposition import PCA"
   ]
  },
  {
   "cell_type": "code",
   "execution_count": 2,
   "metadata": {},
   "outputs": [],
   "source": [
    "train_data = pd.read_csv('/Users/aga/Desktop/brainhack/selected_train.csv', sep=',')\n",
    "#val_data = pd.read_csv('/Users/aga/Desktop/brainhack/selected_validation.csv', sep=',')"
   ]
  },
  {
   "cell_type": "code",
   "execution_count": 3,
   "metadata": {},
   "outputs": [],
   "source": [
    "labels_train_filename = '/Users/aga/Desktop/brainhack/training_fluid_intelligenceV1.csv'\n",
    "#labels_val_filename = '/Users/aga/Desktop/brainhack/validation_fluid_intelligenceV1.csv'\n",
    "labels_train = pd.read_csv(labels_train_filename, sep=',')\n",
    "#labels_val = pd.read_csv(labels_val_filename, sep=',')"
   ]
  },
  {
   "cell_type": "code",
   "execution_count": 4,
   "metadata": {},
   "outputs": [
    {
     "data": {
      "text/html": [
       "<div>\n",
       "<style scoped>\n",
       "    .dataframe tbody tr th:only-of-type {\n",
       "        vertical-align: middle;\n",
       "    }\n",
       "\n",
       "    .dataframe tbody tr th {\n",
       "        vertical-align: top;\n",
       "    }\n",
       "\n",
       "    .dataframe thead th {\n",
       "        text-align: right;\n",
       "    }\n",
       "</style>\n",
       "<table border=\"1\" class=\"dataframe\">\n",
       "  <thead>\n",
       "    <tr style=\"text-align: right;\">\n",
       "      <th></th>\n",
       "      <th>Unnamed: 0</th>\n",
       "      <th>subjectkey</th>\n",
       "      <th>sri24frontalsuplgm</th>\n",
       "      <th>sri24frontalsuprgm</th>\n",
       "      <th>sri24frontalsuporblgm</th>\n",
       "      <th>sri24frontalsuporbrgm</th>\n",
       "      <th>sri24frontalmidlgm</th>\n",
       "      <th>sri24frontalmidrgm</th>\n",
       "      <th>sri24frontalmidorblgm</th>\n",
       "      <th>sri24frontalmidorbrgm</th>\n",
       "      <th>...</th>\n",
       "      <th>sri24frontalinforblgm</th>\n",
       "      <th>sri24frontalinforbrgm</th>\n",
       "      <th>sri24frontalmedorblgm</th>\n",
       "      <th>sri24frontalmedorbrgm</th>\n",
       "      <th>sri24cingulumantlgm</th>\n",
       "      <th>sri24cingulumantrgm</th>\n",
       "      <th>sri24cingulummidlgm</th>\n",
       "      <th>sri24cingulummidrgm</th>\n",
       "      <th>gender_F</th>\n",
       "      <th>gender_M</th>\n",
       "    </tr>\n",
       "  </thead>\n",
       "  <tbody>\n",
       "    <tr>\n",
       "      <th>0</th>\n",
       "      <td>3190</td>\n",
       "      <td>NDAR_INV007W6H7B</td>\n",
       "      <td>11608.2</td>\n",
       "      <td>10292.9</td>\n",
       "      <td>1728.07</td>\n",
       "      <td>2551.04</td>\n",
       "      <td>14212.1</td>\n",
       "      <td>16382.9</td>\n",
       "      <td>3266.63</td>\n",
       "      <td>3515.72</td>\n",
       "      <td>...</td>\n",
       "      <td>6735.91</td>\n",
       "      <td>5800.48</td>\n",
       "      <td>3072.09</td>\n",
       "      <td>2723.33</td>\n",
       "      <td>4235.04</td>\n",
       "      <td>4777.53</td>\n",
       "      <td>6395.13</td>\n",
       "      <td>7490.97</td>\n",
       "      <td>0</td>\n",
       "      <td>1</td>\n",
       "    </tr>\n",
       "    <tr>\n",
       "      <th>1</th>\n",
       "      <td>3020</td>\n",
       "      <td>NDAR_INV00CY2MDM</td>\n",
       "      <td>12302.6</td>\n",
       "      <td>11765.0</td>\n",
       "      <td>2520.28</td>\n",
       "      <td>2607.39</td>\n",
       "      <td>16888.4</td>\n",
       "      <td>19027.7</td>\n",
       "      <td>3978.52</td>\n",
       "      <td>3822.51</td>\n",
       "      <td>...</td>\n",
       "      <td>6643.10</td>\n",
       "      <td>5948.38</td>\n",
       "      <td>2642.61</td>\n",
       "      <td>2877.07</td>\n",
       "      <td>5346.31</td>\n",
       "      <td>4512.14</td>\n",
       "      <td>7001.95</td>\n",
       "      <td>6285.88</td>\n",
       "      <td>0</td>\n",
       "      <td>1</td>\n",
       "    </tr>\n",
       "    <tr>\n",
       "      <th>2</th>\n",
       "      <td>390</td>\n",
       "      <td>NDAR_INV00HEV6HB</td>\n",
       "      <td>11229.8</td>\n",
       "      <td>10384.5</td>\n",
       "      <td>2411.15</td>\n",
       "      <td>2160.34</td>\n",
       "      <td>18548.3</td>\n",
       "      <td>18598.8</td>\n",
       "      <td>3927.01</td>\n",
       "      <td>4597.59</td>\n",
       "      <td>...</td>\n",
       "      <td>7109.42</td>\n",
       "      <td>7357.31</td>\n",
       "      <td>3120.80</td>\n",
       "      <td>3785.27</td>\n",
       "      <td>4271.38</td>\n",
       "      <td>4437.63</td>\n",
       "      <td>5781.24</td>\n",
       "      <td>6552.67</td>\n",
       "      <td>0</td>\n",
       "      <td>1</td>\n",
       "    </tr>\n",
       "    <tr>\n",
       "      <th>3</th>\n",
       "      <td>1431</td>\n",
       "      <td>NDAR_INV00LJVZK2</td>\n",
       "      <td>13261.8</td>\n",
       "      <td>10869.4</td>\n",
       "      <td>2688.43</td>\n",
       "      <td>2236.71</td>\n",
       "      <td>15229.9</td>\n",
       "      <td>16650.1</td>\n",
       "      <td>4104.68</td>\n",
       "      <td>4826.16</td>\n",
       "      <td>...</td>\n",
       "      <td>7519.14</td>\n",
       "      <td>6390.69</td>\n",
       "      <td>3671.06</td>\n",
       "      <td>3524.43</td>\n",
       "      <td>4192.99</td>\n",
       "      <td>4628.82</td>\n",
       "      <td>7029.24</td>\n",
       "      <td>7318.81</td>\n",
       "      <td>0</td>\n",
       "      <td>1</td>\n",
       "    </tr>\n",
       "    <tr>\n",
       "      <th>4</th>\n",
       "      <td>4028</td>\n",
       "      <td>NDAR_INV00NPMHND</td>\n",
       "      <td>11329.6</td>\n",
       "      <td>10342.0</td>\n",
       "      <td>2373.23</td>\n",
       "      <td>2224.30</td>\n",
       "      <td>13785.5</td>\n",
       "      <td>17434.4</td>\n",
       "      <td>4764.47</td>\n",
       "      <td>4751.08</td>\n",
       "      <td>...</td>\n",
       "      <td>7308.55</td>\n",
       "      <td>5841.64</td>\n",
       "      <td>2897.32</td>\n",
       "      <td>3019.39</td>\n",
       "      <td>6284.10</td>\n",
       "      <td>5529.26</td>\n",
       "      <td>6997.10</td>\n",
       "      <td>7596.34</td>\n",
       "      <td>1</td>\n",
       "      <td>0</td>\n",
       "    </tr>\n",
       "  </tbody>\n",
       "</table>\n",
       "<p>5 rows × 24 columns</p>\n",
       "</div>"
      ],
      "text/plain": [
       "   Unnamed: 0        subjectkey  sri24frontalsuplgm  sri24frontalsuprgm  \\\n",
       "0        3190  NDAR_INV007W6H7B             11608.2             10292.9   \n",
       "1        3020  NDAR_INV00CY2MDM             12302.6             11765.0   \n",
       "2         390  NDAR_INV00HEV6HB             11229.8             10384.5   \n",
       "3        1431  NDAR_INV00LJVZK2             13261.8             10869.4   \n",
       "4        4028  NDAR_INV00NPMHND             11329.6             10342.0   \n",
       "\n",
       "   sri24frontalsuporblgm  sri24frontalsuporbrgm  sri24frontalmidlgm  \\\n",
       "0                1728.07                2551.04             14212.1   \n",
       "1                2520.28                2607.39             16888.4   \n",
       "2                2411.15                2160.34             18548.3   \n",
       "3                2688.43                2236.71             15229.9   \n",
       "4                2373.23                2224.30             13785.5   \n",
       "\n",
       "   sri24frontalmidrgm  sri24frontalmidorblgm  sri24frontalmidorbrgm    ...     \\\n",
       "0             16382.9                3266.63                3515.72    ...      \n",
       "1             19027.7                3978.52                3822.51    ...      \n",
       "2             18598.8                3927.01                4597.59    ...      \n",
       "3             16650.1                4104.68                4826.16    ...      \n",
       "4             17434.4                4764.47                4751.08    ...      \n",
       "\n",
       "   sri24frontalinforblgm  sri24frontalinforbrgm  sri24frontalmedorblgm  \\\n",
       "0                6735.91                5800.48                3072.09   \n",
       "1                6643.10                5948.38                2642.61   \n",
       "2                7109.42                7357.31                3120.80   \n",
       "3                7519.14                6390.69                3671.06   \n",
       "4                7308.55                5841.64                2897.32   \n",
       "\n",
       "   sri24frontalmedorbrgm  sri24cingulumantlgm  sri24cingulumantrgm  \\\n",
       "0                2723.33              4235.04              4777.53   \n",
       "1                2877.07              5346.31              4512.14   \n",
       "2                3785.27              4271.38              4437.63   \n",
       "3                3524.43              4192.99              4628.82   \n",
       "4                3019.39              6284.10              5529.26   \n",
       "\n",
       "   sri24cingulummidlgm  sri24cingulummidrgm  gender_F  gender_M  \n",
       "0              6395.13              7490.97         0         1  \n",
       "1              7001.95              6285.88         0         1  \n",
       "2              5781.24              6552.67         0         1  \n",
       "3              7029.24              7318.81         0         1  \n",
       "4              6997.10              7596.34         1         0  \n",
       "\n",
       "[5 rows x 24 columns]"
      ]
     },
     "execution_count": 4,
     "metadata": {},
     "output_type": "execute_result"
    }
   ],
   "source": [
    "train_data.head()"
   ]
  },
  {
   "cell_type": "code",
   "execution_count": 5,
   "metadata": {},
   "outputs": [],
   "source": [
    "train_data_labels = pd.merge(train_data, labels_train, left_on='subjectkey', right_on='subject').drop(['subject'], axis=1)\n",
    "#val_data_labels = pd.merge(val_data, labels_val, left_on='subjectkey', right_on='subject').drop(['subject'], axis=1)"
   ]
  },
  {
   "cell_type": "code",
   "execution_count": null,
   "metadata": {},
   "outputs": [],
   "source": [
    "#val_data_labels.head()"
   ]
  },
  {
   "cell_type": "code",
   "execution_count": null,
   "metadata": {},
   "outputs": [],
   "source": [
    "#val_data.head()"
   ]
  },
  {
   "cell_type": "code",
   "execution_count": 6,
   "metadata": {},
   "outputs": [],
   "source": [
    "#remove keys\n",
    "#todo: prepare training without residuals already; ,'residual_fluid_intelligence_score'\n",
    "train_data = train_data.drop(['Unnamed: 0','subjectkey'],axis=1)\n",
    "#val_data = val_data.drop(['Unnamed: 0','subjectkey'],axis=1)"
   ]
  },
  {
   "cell_type": "code",
   "execution_count": 7,
   "metadata": {},
   "outputs": [
    {
     "data": {
      "text/plain": [
       "array([[1.16082e+04, 1.02929e+04, 1.72807e+03, ..., 7.49097e+03,\n",
       "        0.00000e+00, 1.00000e+00],\n",
       "       [1.23026e+04, 1.17650e+04, 2.52028e+03, ..., 6.28588e+03,\n",
       "        0.00000e+00, 1.00000e+00],\n",
       "       [1.12298e+04, 1.03845e+04, 2.41115e+03, ..., 6.55267e+03,\n",
       "        0.00000e+00, 1.00000e+00],\n",
       "       ...,\n",
       "       [1.26083e+04, 1.14297e+04, 2.01997e+03, ..., 5.42623e+03,\n",
       "        0.00000e+00, 1.00000e+00],\n",
       "       [1.43482e+04, 1.21044e+04, 2.13577e+03, ..., 6.22951e+03,\n",
       "        1.00000e+00, 0.00000e+00],\n",
       "       [1.46661e+04, 1.21172e+04, 2.65748e+03, ..., 8.09903e+03,\n",
       "        1.00000e+00, 0.00000e+00]])"
      ]
     },
     "execution_count": 7,
     "metadata": {},
     "output_type": "execute_result"
    }
   ],
   "source": [
    "train_data.values.astype(np.float)\n",
    "#val_data.values.astype(np.float)"
   ]
  },
  {
   "cell_type": "code",
   "execution_count": 8,
   "metadata": {},
   "outputs": [],
   "source": [
    "#first normalize with respect to column\n",
    "def normalize_data(data: np.array, standardize=True):\n",
    "    means = np.mean(data, axis=0)\n",
    "    stds = np.std(data, axis=0)\n",
    "    if not standardize:\n",
    "        return data-means\n",
    "    return (data-means)/stds"
   ]
  },
  {
   "cell_type": "code",
   "execution_count": 9,
   "metadata": {},
   "outputs": [],
   "source": [
    "train_norm_data = normalize_data(train_data)\n",
    "#val_norm_data = normalize_data(val_data)"
   ]
  },
  {
   "cell_type": "code",
   "execution_count": 10,
   "metadata": {},
   "outputs": [],
   "source": [
    "train_norm_data[np.isnan(train_norm_data)] = 0"
   ]
  },
  {
   "cell_type": "code",
   "execution_count": 11,
   "metadata": {},
   "outputs": [
    {
     "data": {
      "image/png": "[encoded data removed]",
      "text/plain": [
       "<Figure size 720x720 with 2 Axes>"
      ]
     },
     "metadata": {},
     "output_type": "display_data"
    }
   ],
   "source": [
    "import matplotlib.pyplot as plt \n",
    "%matplotlib inline\n",
    "#Covariance matrix of features\n",
    "def compute_covariance(matrix):\n",
    "    return matrix.T.dot(matrix)/matrix.shape[0]\n",
    "\n",
    "cov_matrix = compute_covariance(train_norm_data)\n",
    "fig, ax = plt.subplots(figsize=(10,10))\n",
    "im = ax.matshow(cov_matrix, interpolation='none')\n",
    "fig.colorbar(im, ticks=[-1,-0.8,-0.6,-0.4,-0.2,0.0,0.2,0.4,0.6,0.8,1.0])\n",
    "plt.show()"
   ]
  },
  {
   "cell_type": "code",
   "execution_count": 14,
   "metadata": {},
   "outputs": [],
   "source": [
    "from sklearn.decomposition import PCA"
   ]
  },
  {
   "cell_type": "code",
   "execution_count": 15,
   "metadata": {},
   "outputs": [
    {
     "name": "stdout",
     "output_type": "stream",
     "text": [
      "For 2 components, the explained variance by them is : 0.266\n",
      "For 3 components, the explained variance by them is : 0.350\n",
      "For 4 components, the explained variance by them is : 0.419\n",
      "For 5 components, the explained variance by them is : 0.482\n",
      "For 6 components, the explained variance by them is : 0.540\n",
      "For 7 components, the explained variance by them is : 0.591\n",
      "For 8 components, the explained variance by them is : 0.637\n",
      "For 9 components, the explained variance by them is : 0.680\n",
      "For 10 components, the explained variance by them is : 0.721\n",
      "**********\n",
      "The 0.8 variance ratio is explained by 13 components \n",
      "The 0.85 variance ratio is explained by 14 components \n",
      "The 0.9 variance ratio is explained by 16 components \n",
      "The 0.95 variance ratio is explained by 18 components \n"
     ]
    }
   ],
   "source": [
    "#PCA\n",
    "n_components = [2,3,4,5,6,7,8,9,10]\n",
    "for n in n_components:\n",
    "    curr_pca = PCA(n_components=n)\n",
    "    curr_pca.fit_transform(train_norm_data)\n",
    "    print(\"For {} components, the explained variance by them is : {:.3f}\".format(n, np.sum(curr_pca.explained_variance_ratio_)))\n",
    "\n",
    "print(\"*\"*10)\n",
    "explained_variance = [0.8, 0.85, 0.9, 0.95]\n",
    "for target_variance in explained_variance:\n",
    "    curr_pca = PCA(n_components=target_variance)\n",
    "    curr_pca.fit_transform(train_norm_data)\n",
    "    print(\"The {} variance ratio is explained by {} components \".format(target_variance, np.sum(curr_pca.n_components_)))"
   ]
  },
  {
   "cell_type": "code",
   "execution_count": 16,
   "metadata": {},
   "outputs": [],
   "source": [
    "#Covariance matrix of features\n",
    "def get_eigenvalues(data, n_comps, standardize=True):\n",
    "    normalized_data = normalize_data(data, standardize)\n",
    "    cov_matrix = compute_covariance(normalized_data)\n",
    "    pca = PCA(n_comps)\n",
    "    pca.fit_transform(normalized_data)\n",
    "    eigenvectors = pca.components_\n",
    "    eigenvalues = []\n",
    "    for ev in eigenvectors:\n",
    "        eigenvalues.append(np.dot(ev.T, np.dot(cov_matrix, ev)))\n",
    "    print(pca.explained_variance_)\n",
    "    return eigenvalues"
   ]
  },
  {
   "cell_type": "code",
   "execution_count": 17,
   "metadata": {},
   "outputs": [
    {
     "name": "stdout",
     "output_type": "stream",
     "text": [
      "[3.82318316 2.03122804 1.85630096]\n"
     ]
    },
    {
     "data": {
      "text/plain": [
       "[3.822160824888969, 2.030730567339761, 1.8559109874540902]"
      ]
     },
     "execution_count": 17,
     "metadata": {},
     "output_type": "execute_result"
    }
   ],
   "source": [
    "#norm?\n",
    "get_eigenvalues(train_norm_data, 3)"
   ]
  },
  {
   "cell_type": "code",
   "execution_count": 18,
   "metadata": {},
   "outputs": [
    {
     "name": "stderr",
     "output_type": "stream",
     "text": [
      "/Users/aga/anaconda3/lib/python3.6/site-packages/ipykernel_launcher.py:5: RuntimeWarning: invalid value encountered in log\n",
      "  \"\"\"\n"
     ]
    },
    {
     "data": {
      "text/plain": [
       "<matplotlib.axes._subplots.AxesSubplot at 0x1a147cb668>"
      ]
     },
     "execution_count": 18,
     "metadata": {},
     "output_type": "execute_result"
    },
    {
     "data": {
      "image/png": "[encoded data removed]",
      "text/plain": [
       "<Figure size 432x288 with 2 Axes>"
      ]
     },
     "metadata": {},
     "output_type": "display_data"
    }
   ],
   "source": [
    "#Evaluating feature importance¶\n",
    "inv_pca = PCA()\n",
    "pca_data = inv_pca.fit_transform(train_norm_data)\n",
    "\n",
    "feature_importance = np.nan_to_num(np.log(inv_pca.inverse_transform(np.eye(train_norm_data.shape[1]))))\n",
    "\n",
    "import seaborn as sns\n",
    "sns.heatmap(feature_importance, cmap=\"hot\", cbar=True)"
   ]
  },
  {
   "cell_type": "code",
   "execution_count": null,
   "metadata": {},
   "outputs": [],
   "source": [
    "means = np.mean(pca_data, axis=0)/np.sum(np.mean(pca_data, axis=0))\n",
    "variances = np.var(pca_data, axis=0)/np.sum(np.var(pca_data, axis=0))\n",
    "xs = [x for x in range(train_norm_data.shape[1])]\n",
    "threshold = [0.2 for x in xs]\n",
    "plt.plot(xs, means, color='red')\n",
    "plt.plot(xs, variances, color='blue')\n",
    "plt.plot(xs, threshold, color='green')\n",
    "plt.legend(loc='best')\n",
    "plt.show()"
   ]
  },
  {
   "cell_type": "code",
   "execution_count": null,
   "metadata": {},
   "outputs": [],
   "source": [
    "#SVM\n",
    "def mse(real, pred):\n",
    "    return np.mean(np.square(real-pred))"
   ]
  },
  {
   "cell_type": "code",
   "execution_count": 12,
   "metadata": {},
   "outputs": [],
   "source": [
    "data_labels = train_data_labels['residual_fluid_intelligence_score'].astype(np.float)"
   ]
  },
  {
   "cell_type": "code",
   "execution_count": 13,
   "metadata": {},
   "outputs": [
    {
     "data": {
      "text/plain": [
       "0     3.471969\n",
       "1    -8.958806\n",
       "2     2.898313\n",
       "3     0.218017\n",
       "4   -18.663981\n",
       "Name: residual_fluid_intelligence_score, dtype: float64"
      ]
     },
     "execution_count": 13,
     "metadata": {},
     "output_type": "execute_result"
    }
   ],
   "source": [
    "data_labels.head()"
   ]
  },
  {
   "cell_type": "code",
   "execution_count": 24,
   "metadata": {},
   "outputs": [],
   "source": [
    "training = train_norm_data.values.astype(np.float)"
   ]
  },
  {
   "cell_type": "code",
   "execution_count": 25,
   "metadata": {},
   "outputs": [
    {
     "name": "stdout",
     "output_type": "stream",
     "text": [
      "Train: [ 748  749  750 ... 3736 3737 3738] | test: [  0   1   2   3   4   5   6   7   8   9  10  11  12  13  14  15  16  17\n",
      "  18  19  20  21  22  23  24  25  26  27  28  29  30  31  32  33  34  35\n",
      "  36  37  38  39  40  41  42  43  44  45  46  47  48  49  50  51  52  53\n",
      "  54  55  56  57  58  59  60  61  62  63  64  65  66  67  68  69  70  71\n",
      "  72  73  74  75  76  77  78  79  80  81  82  83  84  85  86  87  88  89\n",
      "  90  91  92  93  94  95  96  97  98  99 100 101 102 103 104 105 106 107\n",
      " 108 109 110 111 112 113 114 115 116 117 118 119 120 121 122 123 124 125\n",
      " 126 127 128 129 130 131 132 133 134 135 136 137 138 139 140 141 142 143\n",
      " 144 145 146 147 148 149 150 151 152 153 154 155 156 157 158 159 160 161\n",
      " 162 163 164 165 166 167 168 169 170 171 172 173 174 175 176 177 178 179\n",
      " 180 181 182 183 184 185 186 187 188 189 190 191 192 193 194 195 196 197\n",
      " 198 199 200 201 202 203 204 205 206 207 208 209 210 211 212 213 214 215\n",
      " 216 217 218 219 220 221 222 223 224 225 226 227 228 229 230 231 232 233\n",
      " 234 235 236 237 238 239 240 241 242 243 244 245 246 247 248 249 250 251\n",
      " 252 253 254 255 256 257 258 259 260 261 262 263 264 265 266 267 268 269\n",
      " 270 271 272 273 274 275 276 277 278 279 280 281 282 283 284 285 286 287\n",
      " 288 289 290 291 292 293 294 295 296 297 298 299 300 301 302 303 304 305\n",
      " 306 307 308 309 310 311 312 313 314 315 316 317 318 319 320 321 322 323\n",
      " 324 325 326 327 328 329 330 331 332 333 334 335 336 337 338 339 340 341\n",
      " 342 343 344 345 346 347 348 349 350 351 352 353 354 355 356 357 358 359\n",
      " 360 361 362 363 364 365 366 367 368 369 370 371 372 373 374 375 376 377\n",
      " 378 379 380 381 382 383 384 385 386 387 388 389 390 391 392 393 394 395\n",
      " 396 397 398 399 400 401 402 403 404 405 406 407 408 409 410 411 412 413\n",
      " 414 415 416 417 418 419 420 421 422 423 424 425 426 427 428 429 430 431\n",
      " 432 433 434 435 436 437 438 439 440 441 442 443 444 445 446 447 448 449\n",
      " 450 451 452 453 454 455 456 457 458 459 460 461 462 463 464 465 466 467\n",
      " 468 469 470 471 472 473 474 475 476 477 478 479 480 481 482 483 484 485\n",
      " 486 487 488 489 490 491 492 493 494 495 496 497 498 499 500 501 502 503\n",
      " 504 505 506 507 508 509 510 511 512 513 514 515 516 517 518 519 520 521\n",
      " 522 523 524 525 526 527 528 529 530 531 532 533 534 535 536 537 538 539\n",
      " 540 541 542 543 544 545 546 547 548 549 550 551 552 553 554 555 556 557\n",
      " 558 559 560 561 562 563 564 565 566 567 568 569 570 571 572 573 574 575\n",
      " 576 577 578 579 580 581 582 583 584 585 586 587 588 589 590 591 592 593\n",
      " 594 595 596 597 598 599 600 601 602 603 604 605 606 607 608 609 610 611\n",
      " 612 613 614 615 616 617 618 619 620 621 622 623 624 625 626 627 628 629\n",
      " 630 631 632 633 634 635 636 637 638 639 640 641 642 643 644 645 646 647\n",
      " 648 649 650 651 652 653 654 655 656 657 658 659 660 661 662 663 664 665\n",
      " 666 667 668 669 670 671 672 673 674 675 676 677 678 679 680 681 682 683\n",
      " 684 685 686 687 688 689 690 691 692 693 694 695 696 697 698 699 700 701\n",
      " 702 703 704 705 706 707 708 709 710 711 712 713 714 715 716 717 718 719\n",
      " 720 721 722 723 724 725 726 727 728 729 730 731 732 733 734 735 736 737\n",
      " 738 739 740 741 742 743 744 745 746 747]\n",
      "Train: [   0    1    2 ... 3736 3737 3738] | test: [ 748  749  750  751  752  753  754  755  756  757  758  759  760  761\n",
      "  762  763  764  765  766  767  768  769  770  771  772  773  774  775\n",
      "  776  777  778  779  780  781  782  783  784  785  786  787  788  789\n",
      "  790  791  792  793  794  795  796  797  798  799  800  801  802  803\n",
      "  804  805  806  807  808  809  810  811  812  813  814  815  816  817\n",
      "  818  819  820  821  822  823  824  825  826  827  828  829  830  831\n",
      "  832  833  834  835  836  837  838  839  840  841  842  843  844  845\n",
      "  846  847  848  849  850  851  852  853  854  855  856  857  858  859\n",
      "  860  861  862  863  864  865  866  867  868  869  870  871  872  873\n",
      "  874  875  876  877  878  879  880  881  882  883  884  885  886  887\n",
      "  888  889  890  891  892  893  894  895  896  897  898  899  900  901\n",
      "  902  903  904  905  906  907  908  909  910  911  912  913  914  915\n",
      "  916  917  918  919  920  921  922  923  924  925  926  927  928  929\n",
      "  930  931  932  933  934  935  936  937  938  939  940  941  942  943\n",
      "  944  945  946  947  948  949  950  951  952  953  954  955  956  957\n",
      "  958  959  960  961  962  963  964  965  966  967  968  969  970  971\n",
      "  972  973  974  975  976  977  978  979  980  981  982  983  984  985\n",
      "  986  987  988  989  990  991  992  993  994  995  996  997  998  999\n",
      " 1000 1001 1002 1003 1004 1005 1006 1007 1008 1009 1010 1011 1012 1013\n",
      " 1014 1015 1016 1017 1018 1019 1020 1021 1022 1023 1024 1025 1026 1027\n",
      " 1028 1029 1030 1031 1032 1033 1034 1035 1036 1037 1038 1039 1040 1041\n",
      " 1042 1043 1044 1045 1046 1047 1048 1049 1050 1051 1052 1053 1054 1055\n",
      " 1056 1057 1058 1059 1060 1061 1062 1063 1064 1065 1066 1067 1068 1069\n",
      " 1070 1071 1072 1073 1074 1075 1076 1077 1078 1079 1080 1081 1082 1083\n",
      " 1084 1085 1086 1087 1088 1089 1090 1091 1092 1093 1094 1095 1096 1097\n",
      " 1098 1099 1100 1101 1102 1103 1104 1105 1106 1107 1108 1109 1110 1111\n",
      " 1112 1113 1114 1115 1116 1117 1118 1119 1120 1121 1122 1123 1124 1125\n",
      " 1126 1127 1128 1129 1130 1131 1132 1133 1134 1135 1136 1137 1138 1139\n",
      " 1140 1141 1142 1143 1144 1145 1146 1147 1148 1149 1150 1151 1152 1153\n",
      " 1154 1155 1156 1157 1158 1159 1160 1161 1162 1163 1164 1165 1166 1167\n",
      " 1168 1169 1170 1171 1172 1173 1174 1175 1176 1177 1178 1179 1180 1181\n",
      " 1182 1183 1184 1185 1186 1187 1188 1189 1190 1191 1192 1193 1194 1195\n",
      " 1196 1197 1198 1199 1200 1201 1202 1203 1204 1205 1206 1207 1208 1209\n",
      " 1210 1211 1212 1213 1214 1215 1216 1217 1218 1219 1220 1221 1222 1223\n",
      " 1224 1225 1226 1227 1228 1229 1230 1231 1232 1233 1234 1235 1236 1237\n",
      " 1238 1239 1240 1241 1242 1243 1244 1245 1246 1247 1248 1249 1250 1251\n",
      " 1252 1253 1254 1255 1256 1257 1258 1259 1260 1261 1262 1263 1264 1265\n",
      " 1266 1267 1268 1269 1270 1271 1272 1273 1274 1275 1276 1277 1278 1279\n",
      " 1280 1281 1282 1283 1284 1285 1286 1287 1288 1289 1290 1291 1292 1293\n",
      " 1294 1295 1296 1297 1298 1299 1300 1301 1302 1303 1304 1305 1306 1307\n",
      " 1308 1309 1310 1311 1312 1313 1314 1315 1316 1317 1318 1319 1320 1321\n",
      " 1322 1323 1324 1325 1326 1327 1328 1329 1330 1331 1332 1333 1334 1335\n",
      " 1336 1337 1338 1339 1340 1341 1342 1343 1344 1345 1346 1347 1348 1349\n",
      " 1350 1351 1352 1353 1354 1355 1356 1357 1358 1359 1360 1361 1362 1363\n",
      " 1364 1365 1366 1367 1368 1369 1370 1371 1372 1373 1374 1375 1376 1377\n",
      " 1378 1379 1380 1381 1382 1383 1384 1385 1386 1387 1388 1389 1390 1391\n",
      " 1392 1393 1394 1395 1396 1397 1398 1399 1400 1401 1402 1403 1404 1405\n",
      " 1406 1407 1408 1409 1410 1411 1412 1413 1414 1415 1416 1417 1418 1419\n",
      " 1420 1421 1422 1423 1424 1425 1426 1427 1428 1429 1430 1431 1432 1433\n",
      " 1434 1435 1436 1437 1438 1439 1440 1441 1442 1443 1444 1445 1446 1447\n",
      " 1448 1449 1450 1451 1452 1453 1454 1455 1456 1457 1458 1459 1460 1461\n",
      " 1462 1463 1464 1465 1466 1467 1468 1469 1470 1471 1472 1473 1474 1475\n",
      " 1476 1477 1478 1479 1480 1481 1482 1483 1484 1485 1486 1487 1488 1489\n",
      " 1490 1491 1492 1493 1494 1495]\n",
      "Train: [   0    1    2 ... 3736 3737 3738] | test: [1496 1497 1498 1499 1500 1501 1502 1503 1504 1505 1506 1507 1508 1509\n",
      " 1510 1511 1512 1513 1514 1515 1516 1517 1518 1519 1520 1521 1522 1523\n",
      " 1524 1525 1526 1527 1528 1529 1530 1531 1532 1533 1534 1535 1536 1537\n",
      " 1538 1539 1540 1541 1542 1543 1544 1545 1546 1547 1548 1549 1550 1551\n",
      " 1552 1553 1554 1555 1556 1557 1558 1559 1560 1561 1562 1563 1564 1565\n",
      " 1566 1567 1568 1569 1570 1571 1572 1573 1574 1575 1576 1577 1578 1579\n",
      " 1580 1581 1582 1583 1584 1585 1586 1587 1588 1589 1590 1591 1592 1593\n",
      " 1594 1595 1596 1597 1598 1599 1600 1601 1602 1603 1604 1605 1606 1607\n",
      " 1608 1609 1610 1611 1612 1613 1614 1615 1616 1617 1618 1619 1620 1621\n",
      " 1622 1623 1624 1625 1626 1627 1628 1629 1630 1631 1632 1633 1634 1635\n",
      " 1636 1637 1638 1639 1640 1641 1642 1643 1644 1645 1646 1647 1648 1649\n",
      " 1650 1651 1652 1653 1654 1655 1656 1657 1658 1659 1660 1661 1662 1663\n",
      " 1664 1665 1666 1667 1668 1669 1670 1671 1672 1673 1674 1675 1676 1677\n",
      " 1678 1679 1680 1681 1682 1683 1684 1685 1686 1687 1688 1689 1690 1691\n",
      " 1692 1693 1694 1695 1696 1697 1698 1699 1700 1701 1702 1703 1704 1705\n",
      " 1706 1707 1708 1709 1710 1711 1712 1713 1714 1715 1716 1717 1718 1719\n",
      " 1720 1721 1722 1723 1724 1725 1726 1727 1728 1729 1730 1731 1732 1733\n",
      " 1734 1735 1736 1737 1738 1739 1740 1741 1742 1743 1744 1745 1746 1747\n",
      " 1748 1749 1750 1751 1752 1753 1754 1755 1756 1757 1758 1759 1760 1761\n",
      " 1762 1763 1764 1765 1766 1767 1768 1769 1770 1771 1772 1773 1774 1775\n",
      " 1776 1777 1778 1779 1780 1781 1782 1783 1784 1785 1786 1787 1788 1789\n",
      " 1790 1791 1792 1793 1794 1795 1796 1797 1798 1799 1800 1801 1802 1803\n",
      " 1804 1805 1806 1807 1808 1809 1810 1811 1812 1813 1814 1815 1816 1817\n",
      " 1818 1819 1820 1821 1822 1823 1824 1825 1826 1827 1828 1829 1830 1831\n",
      " 1832 1833 1834 1835 1836 1837 1838 1839 1840 1841 1842 1843 1844 1845\n",
      " 1846 1847 1848 1849 1850 1851 1852 1853 1854 1855 1856 1857 1858 1859\n",
      " 1860 1861 1862 1863 1864 1865 1866 1867 1868 1869 1870 1871 1872 1873\n",
      " 1874 1875 1876 1877 1878 1879 1880 1881 1882 1883 1884 1885 1886 1887\n",
      " 1888 1889 1890 1891 1892 1893 1894 1895 1896 1897 1898 1899 1900 1901\n",
      " 1902 1903 1904 1905 1906 1907 1908 1909 1910 1911 1912 1913 1914 1915\n",
      " 1916 1917 1918 1919 1920 1921 1922 1923 1924 1925 1926 1927 1928 1929\n",
      " 1930 1931 1932 1933 1934 1935 1936 1937 1938 1939 1940 1941 1942 1943\n",
      " 1944 1945 1946 1947 1948 1949 1950 1951 1952 1953 1954 1955 1956 1957\n",
      " 1958 1959 1960 1961 1962 1963 1964 1965 1966 1967 1968 1969 1970 1971\n",
      " 1972 1973 1974 1975 1976 1977 1978 1979 1980 1981 1982 1983 1984 1985\n",
      " 1986 1987 1988 1989 1990 1991 1992 1993 1994 1995 1996 1997 1998 1999\n",
      " 2000 2001 2002 2003 2004 2005 2006 2007 2008 2009 2010 2011 2012 2013\n",
      " 2014 2015 2016 2017 2018 2019 2020 2021 2022 2023 2024 2025 2026 2027\n",
      " 2028 2029 2030 2031 2032 2033 2034 2035 2036 2037 2038 2039 2040 2041\n",
      " 2042 2043 2044 2045 2046 2047 2048 2049 2050 2051 2052 2053 2054 2055\n",
      " 2056 2057 2058 2059 2060 2061 2062 2063 2064 2065 2066 2067 2068 2069\n",
      " 2070 2071 2072 2073 2074 2075 2076 2077 2078 2079 2080 2081 2082 2083\n",
      " 2084 2085 2086 2087 2088 2089 2090 2091 2092 2093 2094 2095 2096 2097\n",
      " 2098 2099 2100 2101 2102 2103 2104 2105 2106 2107 2108 2109 2110 2111\n",
      " 2112 2113 2114 2115 2116 2117 2118 2119 2120 2121 2122 2123 2124 2125\n",
      " 2126 2127 2128 2129 2130 2131 2132 2133 2134 2135 2136 2137 2138 2139\n",
      " 2140 2141 2142 2143 2144 2145 2146 2147 2148 2149 2150 2151 2152 2153\n",
      " 2154 2155 2156 2157 2158 2159 2160 2161 2162 2163 2164 2165 2166 2167\n",
      " 2168 2169 2170 2171 2172 2173 2174 2175 2176 2177 2178 2179 2180 2181\n",
      " 2182 2183 2184 2185 2186 2187 2188 2189 2190 2191 2192 2193 2194 2195\n",
      " 2196 2197 2198 2199 2200 2201 2202 2203 2204 2205 2206 2207 2208 2209\n",
      " 2210 2211 2212 2213 2214 2215 2216 2217 2218 2219 2220 2221 2222 2223\n",
      " 2224 2225 2226 2227 2228 2229 2230 2231 2232 2233 2234 2235 2236 2237\n",
      " 2238 2239 2240 2241 2242 2243]\n",
      "Train: [   0    1    2 ... 3736 3737 3738] | test: [2244 2245 2246 2247 2248 2249 2250 2251 2252 2253 2254 2255 2256 2257\n",
      " 2258 2259 2260 2261 2262 2263 2264 2265 2266 2267 2268 2269 2270 2271\n",
      " 2272 2273 2274 2275 2276 2277 2278 2279 2280 2281 2282 2283 2284 2285\n",
      " 2286 2287 2288 2289 2290 2291 2292 2293 2294 2295 2296 2297 2298 2299\n",
      " 2300 2301 2302 2303 2304 2305 2306 2307 2308 2309 2310 2311 2312 2313\n",
      " 2314 2315 2316 2317 2318 2319 2320 2321 2322 2323 2324 2325 2326 2327\n",
      " 2328 2329 2330 2331 2332 2333 2334 2335 2336 2337 2338 2339 2340 2341\n",
      " 2342 2343 2344 2345 2346 2347 2348 2349 2350 2351 2352 2353 2354 2355\n",
      " 2356 2357 2358 2359 2360 2361 2362 2363 2364 2365 2366 2367 2368 2369\n",
      " 2370 2371 2372 2373 2374 2375 2376 2377 2378 2379 2380 2381 2382 2383\n",
      " 2384 2385 2386 2387 2388 2389 2390 2391 2392 2393 2394 2395 2396 2397\n",
      " 2398 2399 2400 2401 2402 2403 2404 2405 2406 2407 2408 2409 2410 2411\n",
      " 2412 2413 2414 2415 2416 2417 2418 2419 2420 2421 2422 2423 2424 2425\n",
      " 2426 2427 2428 2429 2430 2431 2432 2433 2434 2435 2436 2437 2438 2439\n",
      " 2440 2441 2442 2443 2444 2445 2446 2447 2448 2449 2450 2451 2452 2453\n",
      " 2454 2455 2456 2457 2458 2459 2460 2461 2462 2463 2464 2465 2466 2467\n",
      " 2468 2469 2470 2471 2472 2473 2474 2475 2476 2477 2478 2479 2480 2481\n",
      " 2482 2483 2484 2485 2486 2487 2488 2489 2490 2491 2492 2493 2494 2495\n",
      " 2496 2497 2498 2499 2500 2501 2502 2503 2504 2505 2506 2507 2508 2509\n",
      " 2510 2511 2512 2513 2514 2515 2516 2517 2518 2519 2520 2521 2522 2523\n",
      " 2524 2525 2526 2527 2528 2529 2530 2531 2532 2533 2534 2535 2536 2537\n",
      " 2538 2539 2540 2541 2542 2543 2544 2545 2546 2547 2548 2549 2550 2551\n",
      " 2552 2553 2554 2555 2556 2557 2558 2559 2560 2561 2562 2563 2564 2565\n",
      " 2566 2567 2568 2569 2570 2571 2572 2573 2574 2575 2576 2577 2578 2579\n",
      " 2580 2581 2582 2583 2584 2585 2586 2587 2588 2589 2590 2591 2592 2593\n",
      " 2594 2595 2596 2597 2598 2599 2600 2601 2602 2603 2604 2605 2606 2607\n",
      " 2608 2609 2610 2611 2612 2613 2614 2615 2616 2617 2618 2619 2620 2621\n",
      " 2622 2623 2624 2625 2626 2627 2628 2629 2630 2631 2632 2633 2634 2635\n",
      " 2636 2637 2638 2639 2640 2641 2642 2643 2644 2645 2646 2647 2648 2649\n",
      " 2650 2651 2652 2653 2654 2655 2656 2657 2658 2659 2660 2661 2662 2663\n",
      " 2664 2665 2666 2667 2668 2669 2670 2671 2672 2673 2674 2675 2676 2677\n",
      " 2678 2679 2680 2681 2682 2683 2684 2685 2686 2687 2688 2689 2690 2691\n",
      " 2692 2693 2694 2695 2696 2697 2698 2699 2700 2701 2702 2703 2704 2705\n",
      " 2706 2707 2708 2709 2710 2711 2712 2713 2714 2715 2716 2717 2718 2719\n",
      " 2720 2721 2722 2723 2724 2725 2726 2727 2728 2729 2730 2731 2732 2733\n",
      " 2734 2735 2736 2737 2738 2739 2740 2741 2742 2743 2744 2745 2746 2747\n",
      " 2748 2749 2750 2751 2752 2753 2754 2755 2756 2757 2758 2759 2760 2761\n",
      " 2762 2763 2764 2765 2766 2767 2768 2769 2770 2771 2772 2773 2774 2775\n",
      " 2776 2777 2778 2779 2780 2781 2782 2783 2784 2785 2786 2787 2788 2789\n",
      " 2790 2791 2792 2793 2794 2795 2796 2797 2798 2799 2800 2801 2802 2803\n",
      " 2804 2805 2806 2807 2808 2809 2810 2811 2812 2813 2814 2815 2816 2817\n",
      " 2818 2819 2820 2821 2822 2823 2824 2825 2826 2827 2828 2829 2830 2831\n",
      " 2832 2833 2834 2835 2836 2837 2838 2839 2840 2841 2842 2843 2844 2845\n",
      " 2846 2847 2848 2849 2850 2851 2852 2853 2854 2855 2856 2857 2858 2859\n",
      " 2860 2861 2862 2863 2864 2865 2866 2867 2868 2869 2870 2871 2872 2873\n",
      " 2874 2875 2876 2877 2878 2879 2880 2881 2882 2883 2884 2885 2886 2887\n",
      " 2888 2889 2890 2891 2892 2893 2894 2895 2896 2897 2898 2899 2900 2901\n",
      " 2902 2903 2904 2905 2906 2907 2908 2909 2910 2911 2912 2913 2914 2915\n",
      " 2916 2917 2918 2919 2920 2921 2922 2923 2924 2925 2926 2927 2928 2929\n",
      " 2930 2931 2932 2933 2934 2935 2936 2937 2938 2939 2940 2941 2942 2943\n",
      " 2944 2945 2946 2947 2948 2949 2950 2951 2952 2953 2954 2955 2956 2957\n",
      " 2958 2959 2960 2961 2962 2963 2964 2965 2966 2967 2968 2969 2970 2971\n",
      " 2972 2973 2974 2975 2976 2977 2978 2979 2980 2981 2982 2983 2984 2985\n",
      " 2986 2987 2988 2989 2990 2991]\n",
      "Train: [   0    1    2 ... 2989 2990 2991] | test: [2992 2993 2994 2995 2996 2997 2998 2999 3000 3001 3002 3003 3004 3005\n",
      " 3006 3007 3008 3009 3010 3011 3012 3013 3014 3015 3016 3017 3018 3019\n",
      " 3020 3021 3022 3023 3024 3025 3026 3027 3028 3029 3030 3031 3032 3033\n",
      " 3034 3035 3036 3037 3038 3039 3040 3041 3042 3043 3044 3045 3046 3047\n",
      " 3048 3049 3050 3051 3052 3053 3054 3055 3056 3057 3058 3059 3060 3061\n",
      " 3062 3063 3064 3065 3066 3067 3068 3069 3070 3071 3072 3073 3074 3075\n",
      " 3076 3077 3078 3079 3080 3081 3082 3083 3084 3085 3086 3087 3088 3089\n",
      " 3090 3091 3092 3093 3094 3095 3096 3097 3098 3099 3100 3101 3102 3103\n",
      " 3104 3105 3106 3107 3108 3109 3110 3111 3112 3113 3114 3115 3116 3117\n",
      " 3118 3119 3120 3121 3122 3123 3124 3125 3126 3127 3128 3129 3130 3131\n",
      " 3132 3133 3134 3135 3136 3137 3138 3139 3140 3141 3142 3143 3144 3145\n",
      " 3146 3147 3148 3149 3150 3151 3152 3153 3154 3155 3156 3157 3158 3159\n",
      " 3160 3161 3162 3163 3164 3165 3166 3167 3168 3169 3170 3171 3172 3173\n",
      " 3174 3175 3176 3177 3178 3179 3180 3181 3182 3183 3184 3185 3186 3187\n",
      " 3188 3189 3190 3191 3192 3193 3194 3195 3196 3197 3198 3199 3200 3201\n",
      " 3202 3203 3204 3205 3206 3207 3208 3209 3210 3211 3212 3213 3214 3215\n",
      " 3216 3217 3218 3219 3220 3221 3222 3223 3224 3225 3226 3227 3228 3229\n",
      " 3230 3231 3232 3233 3234 3235 3236 3237 3238 3239 3240 3241 3242 3243\n",
      " 3244 3245 3246 3247 3248 3249 3250 3251 3252 3253 3254 3255 3256 3257\n",
      " 3258 3259 3260 3261 3262 3263 3264 3265 3266 3267 3268 3269 3270 3271\n",
      " 3272 3273 3274 3275 3276 3277 3278 3279 3280 3281 3282 3283 3284 3285\n",
      " 3286 3287 3288 3289 3290 3291 3292 3293 3294 3295 3296 3297 3298 3299\n",
      " 3300 3301 3302 3303 3304 3305 3306 3307 3308 3309 3310 3311 3312 3313\n",
      " 3314 3315 3316 3317 3318 3319 3320 3321 3322 3323 3324 3325 3326 3327\n",
      " 3328 3329 3330 3331 3332 3333 3334 3335 3336 3337 3338 3339 3340 3341\n",
      " 3342 3343 3344 3345 3346 3347 3348 3349 3350 3351 3352 3353 3354 3355\n",
      " 3356 3357 3358 3359 3360 3361 3362 3363 3364 3365 3366 3367 3368 3369\n",
      " 3370 3371 3372 3373 3374 3375 3376 3377 3378 3379 3380 3381 3382 3383\n",
      " 3384 3385 3386 3387 3388 3389 3390 3391 3392 3393 3394 3395 3396 3397\n",
      " 3398 3399 3400 3401 3402 3403 3404 3405 3406 3407 3408 3409 3410 3411\n",
      " 3412 3413 3414 3415 3416 3417 3418 3419 3420 3421 3422 3423 3424 3425\n",
      " 3426 3427 3428 3429 3430 3431 3432 3433 3434 3435 3436 3437 3438 3439\n",
      " 3440 3441 3442 3443 3444 3445 3446 3447 3448 3449 3450 3451 3452 3453\n",
      " 3454 3455 3456 3457 3458 3459 3460 3461 3462 3463 3464 3465 3466 3467\n",
      " 3468 3469 3470 3471 3472 3473 3474 3475 3476 3477 3478 3479 3480 3481\n",
      " 3482 3483 3484 3485 3486 3487 3488 3489 3490 3491 3492 3493 3494 3495\n",
      " 3496 3497 3498 3499 3500 3501 3502 3503 3504 3505 3506 3507 3508 3509\n",
      " 3510 3511 3512 3513 3514 3515 3516 3517 3518 3519 3520 3521 3522 3523\n",
      " 3524 3525 3526 3527 3528 3529 3530 3531 3532 3533 3534 3535 3536 3537\n",
      " 3538 3539 3540 3541 3542 3543 3544 3545 3546 3547 3548 3549 3550 3551\n",
      " 3552 3553 3554 3555 3556 3557 3558 3559 3560 3561 3562 3563 3564 3565\n",
      " 3566 3567 3568 3569 3570 3571 3572 3573 3574 3575 3576 3577 3578 3579\n",
      " 3580 3581 3582 3583 3584 3585 3586 3587 3588 3589 3590 3591 3592 3593\n",
      " 3594 3595 3596 3597 3598 3599 3600 3601 3602 3603 3604 3605 3606 3607\n",
      " 3608 3609 3610 3611 3612 3613 3614 3615 3616 3617 3618 3619 3620 3621\n",
      " 3622 3623 3624 3625 3626 3627 3628 3629 3630 3631 3632 3633 3634 3635\n",
      " 3636 3637 3638 3639 3640 3641 3642 3643 3644 3645 3646 3647 3648 3649\n",
      " 3650 3651 3652 3653 3654 3655 3656 3657 3658 3659 3660 3661 3662 3663\n",
      " 3664 3665 3666 3667 3668 3669 3670 3671 3672 3673 3674 3675 3676 3677\n",
      " 3678 3679 3680 3681 3682 3683 3684 3685 3686 3687 3688 3689 3690 3691\n",
      " 3692 3693 3694 3695 3696 3697 3698 3699 3700 3701 3702 3703 3704 3705\n",
      " 3706 3707 3708 3709 3710 3711 3712 3713 3714 3715 3716 3717 3718 3719\n",
      " 3720 3721 3722 3723 3724 3725 3726 3727 3728 3729 3730 3731 3732 3733\n",
      " 3734 3735 3736 3737 3738]\n"
     ]
    }
   ],
   "source": [
    "from sklearn.model_selection import KFold, cross_val_score\n",
    "\n",
    "k_fold = KFold(n_splits=5)\n",
    "for train_indices, test_indices in k_fold.split(training):\n",
    "    print('Train: %s | test: %s' % (train_indices, test_indices))"
   ]
  },
  {
   "cell_type": "code",
   "execution_count": 22,
   "metadata": {},
   "outputs": [
    {
     "ename": "AttributeError",
     "evalue": "'numpy.ndarray' object has no attribute 'target'",
     "output_type": "error",
     "traceback": [
      "\u001b[0;31m---------------------------------------------------------------------------\u001b[0m",
      "\u001b[0;31mAttributeError\u001b[0m                            Traceback (most recent call last)",
      "\u001b[0;32m<ipython-input-22-e1333bf0c7b1>\u001b[0m in \u001b[0;36m<module>\u001b[0;34m()\u001b[0m\n\u001b[1;32m      6\u001b[0m \u001b[0mtraining\u001b[0m \u001b[0;34m=\u001b[0m \u001b[0mtrain_norm_data\u001b[0m\u001b[0;34m.\u001b[0m\u001b[0mvalues\u001b[0m\u001b[0;34m.\u001b[0m\u001b[0mastype\u001b[0m\u001b[0;34m(\u001b[0m\u001b[0mnp\u001b[0m\u001b[0;34m.\u001b[0m\u001b[0mfloat\u001b[0m\u001b[0;34m)\u001b[0m\u001b[0;34m\u001b[0m\u001b[0m\n\u001b[1;32m      7\u001b[0m \u001b[0;31m#data must be array\u001b[0m\u001b[0;34m\u001b[0m\u001b[0;34m\u001b[0m\u001b[0m\n\u001b[0;32m----> 8\u001b[0;31m \u001b[0mscores\u001b[0m \u001b[0;34m=\u001b[0m \u001b[0mcross_val_score\u001b[0m\u001b[0;34m(\u001b[0m\u001b[0msvr_fit\u001b[0m\u001b[0;34m,\u001b[0m \u001b[0mtraining\u001b[0m\u001b[0;34m.\u001b[0m\u001b[0mdata\u001b[0m\u001b[0;34m,\u001b[0m \u001b[0mtraining\u001b[0m\u001b[0;34m.\u001b[0m\u001b[0mtarget\u001b[0m\u001b[0;34m,\u001b[0m \u001b[0mcv\u001b[0m\u001b[0;34m=\u001b[0m\u001b[0;36m5\u001b[0m\u001b[0;34m)\u001b[0m\u001b[0;34m\u001b[0m\u001b[0m\n\u001b[0m",
      "\u001b[0;31mAttributeError\u001b[0m: 'numpy.ndarray' object has no attribute 'target'"
     ]
    }
   ],
   "source": [
    "from sklearn.model_selection import cross_val_score\n",
    "from sklearn.svm import SVR \n",
    "\n",
    "clf = GridSearchCV(SVR(), param_grid=param_grid, n_jobs=-1, cv=10)\n",
    "clf.fit(X_train,Y_train)\n",
    "\n",
    "svr = SVR()\n",
    "svr_fit = svr.fit\n",
    "\n",
    "#data must be array\n",
    "scores = cross_val_score(svr_fit, training.data, training.target, cv=5)"
   ]
  },
  {
   "cell_type": "code",
   "execution_count": null,
   "metadata": {},
   "outputs": [],
   "source": []
  },
  {
   "cell_type": "code",
   "execution_count": null,
   "metadata": {},
   "outputs": [],
   "source": [
    "#train_data_labels=train_data_labels.drop(['Unnamed: 0','subjectkey'],axis=1)\n",
    "#val_data_labels=val_data_labels.drop(['Unnamed: 0','subjectkey'],axis=1)"
   ]
  },
  {
   "cell_type": "code",
   "execution_count": null,
   "metadata": {},
   "outputs": [],
   "source": []
  },
  {
   "cell_type": "code",
   "execution_count": null,
   "metadata": {},
   "outputs": [],
   "source": [
    "#train_labels = train_data_labels['residual_fluid_intelligence_score'].astype(np.float)\n",
    "#val_labels = val_data_labels['residual_fluid_intelligence_score'].astype(np.float)"
   ]
  },
  {
   "cell_type": "code",
   "execution_count": null,
   "metadata": {},
   "outputs": [],
   "source": [
    "#from sklearn.svm import SVR \n",
    "\n",
    "#svr = SVR()\n",
    "#svr.fit(train_norm_data, train_labels)\n",
    "\n",
    "preds = svr.predict(normalize_data(val_data))"
   ]
  },
  {
   "cell_type": "code",
   "execution_count": null,
   "metadata": {},
   "outputs": [],
   "source": [
    "mse(preds, val_labels)"
   ]
  },
  {
   "cell_type": "code",
   "execution_count": null,
   "metadata": {},
   "outputs": [],
   "source": [
    "svr.score(normalize_data(val_data), val_labels)"
   ]
  },
  {
   "cell_type": "code",
   "execution_count": null,
   "metadata": {},
   "outputs": [],
   "source": [
    "#random baseline\n",
    "random_labels = np.random.normal(np.mean(train_labels), np.std(train_labels), len(val_labels))\n",
    "mse(random_labels, val_labels)"
   ]
  },
  {
   "cell_type": "code",
   "execution_count": null,
   "metadata": {},
   "outputs": [],
   "source": [
    "#majority baseline\n",
    "majority_labels = [np.mean(train_labels) for x in range(len(val_labels))]\n",
    "mse(majority_labels, val_labels)"
   ]
  },
  {
   "cell_type": "code",
   "execution_count": null,
   "metadata": {},
   "outputs": [],
   "source": []
  }
 ],
 "metadata": {
  "kernelspec": {
   "display_name": "Python 3",
   "language": "python",
   "name": "python3"
  },
  "language_info": {
   "codemirror_mode": {
    "name": "ipython",
    "version": 3
   },
   "file_extension": ".py",
   "mimetype": "text/x-python",
   "name": "python",
   "nbconvert_exporter": "python",
   "pygments_lexer": "ipython3",
   "version": "3.6.5"
  }
 },
 "nbformat": 4,
 "nbformat_minor": 2
}
